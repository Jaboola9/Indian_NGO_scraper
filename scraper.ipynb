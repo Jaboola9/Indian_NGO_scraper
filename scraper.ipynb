{
 "cells": [
  {
   "cell_type": "code",
   "execution_count": 19,
   "metadata": {},
   "outputs": [
    {
     "name": "stdout",
     "output_type": "stream",
     "text": [
      "The autoreload extension is already loaded. To reload it, use:\n",
      "  %reload_ext autoreload\n"
     ]
    }
   ],
   "source": [
    "%load_ext autoreload\n",
    "%autoreload 2"
   ]
  },
  {
   "cell_type": "code",
   "execution_count": 20,
   "metadata": {},
   "outputs": [],
   "source": [
    "from demo import *"
   ]
  },
  {
   "cell_type": "markdown",
   "metadata": {},
   "source": [
    "This loads all pages from the [NGO Darpan Statewise listing url](https://ngodarpan.gov.in/index.php/home/statewise) and prints their total (second number). This should be in the 800s.\n",
    "\n",
    "Each page usually contains 100 NGO profiles in the form of popup boxes\n"
   ]
  },
  {
   "cell_type": "code",
   "execution_count": 6,
   "metadata": {},
   "outputs": [
    {
     "name": "stdout",
     "output_type": "stream",
     "text": [
      "36\n",
      "854\n"
     ]
    }
   ],
   "source": [
    "all_pages, browser = load_all_pages(darpan_url)"
   ]
  },
  {
   "cell_type": "markdown",
   "metadata": {},
   "source": [
    "This scrapes and transfers profile information into **4 dataframes:**\n",
    "\n",
    "1. **main:** general info about the NGO\n",
    "2. **members:** who is registered (if any) as members of the NGO\n",
    "3. **fcra:** this stands for [Foreign Contribution (Regulation) Act](https://en.wikipedia.org/wiki/Foreign_Contribution_(Regulation)_Act,_2010)\n",
    "4 **sources of funds:** self-explanatory\n",
    "\n",
    "Because this is automated clicking using a webdriver, occasionally a page will fail to load. When this happens that page number will be saved in a 5th dataframe, **missing**. I recommend trying these again by entering in their range of page numbers in the function below. If this fails, manual data gathering is the best option.\n",
    " "
   ]
  },
  {
   "cell_type": "code",
   "execution_count": null,
   "metadata": {},
   "outputs": [
    {
     "name": "stdout",
     "output_type": "stream",
     "text": [
      "81\n",
      "getting popups from 610 https://ngodarpan.gov.in/index.php/home/statewise_ngo/6248/33/32?per_page=100\n",
      "100\n",
      "getting popups from 611 https://ngodarpan.gov.in/index.php/home/statewise_ngo/6248/33/33?per_page=100\n",
      "100\n",
      "getting popups from 612 https://ngodarpan.gov.in/index.php/home/statewise_ngo/6248/33/34?per_page=100\n",
      "100\n",
      "getting popups from 613 https://ngodarpan.gov.in/index.php/home/statewise_ngo/6248/33/35?per_page=100\n",
      "100\n",
      "getting popups from 614 https://ngodarpan.gov.in/index.php/home/statewise_ngo/6248/33/36?per_page=100\n",
      "100\n",
      "getting popups from 615 https://ngodarpan.gov.in/index.php/home/statewise_ngo/6248/33/37?per_page=100\n",
      "100\n"
     ]
    }
   ],
   "source": [
    "# scrapes and encodes pages between\n",
    "full = scrape_encode(all_pages, browser, 610, 620) #Run this"
   ]
  },
  {
   "cell_type": "markdown",
   "metadata": {},
   "source": [
    "This is just a check to make sure everything is working by finding out how large the 4 dataframes are. The numbers below should be roughly these proportions.\n"
   ]
  },
  {
   "cell_type": "code",
   "execution_count": 13,
   "metadata": {},
   "outputs": [
    {
     "name": "stdout",
     "output_type": "stream",
     "text": [
      "(200, 22)\n",
      "(732, 6)\n",
      "(200, 4)\n",
      "(908, 7)\n"
     ]
    }
   ],
   "source": [
    " for dct in full:\n",
    "        df = pd.DataFrame(dct)\n",
    "        print(df.shape)\n",
    "#         display(df.shape)"
   ]
  },
  {
   "cell_type": "markdown",
   "metadata": {},
   "source": [
    "Saves the dataframes gathered to csv"
   ]
  },
  {
   "cell_type": "code",
   "execution_count": 14,
   "metadata": {},
   "outputs": [
    {
     "data": {
      "text/plain": [
       "'encoded'"
      ]
     },
     "execution_count": 14,
     "metadata": {},
     "output_type": "execute_result"
    }
   ],
   "source": [
    "encode_to_csv(full)"
   ]
  }
 ],
 "metadata": {
  "kernelspec": {
   "display_name": "Python 3",
   "language": "python",
   "name": "python3"
  },
  "language_info": {
   "codemirror_mode": {
    "name": "ipython",
    "version": 3
   },
   "file_extension": ".py",
   "mimetype": "text/x-python",
   "name": "python",
   "nbconvert_exporter": "python",
   "pygments_lexer": "ipython3",
   "version": "3.7.3"
  }
 },
 "nbformat": 4,
 "nbformat_minor": 2
}
